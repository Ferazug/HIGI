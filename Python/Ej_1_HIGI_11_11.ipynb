{
  "nbformat": 4,
  "nbformat_minor": 0,
  "metadata": {
    "colab": {
      "provenance": [],
      "authorship_tag": "ABX9TyOgJuw8++IeMPyTFgSZLg+G",
      "include_colab_link": true
    },
    "kernelspec": {
      "name": "python3",
      "display_name": "Python 3"
    },
    "language_info": {
      "name": "python"
    }
  },
  "cells": [
    {
      "cell_type": "markdown",
      "metadata": {
        "id": "view-in-github",
        "colab_type": "text"
      },
      "source": [
        "<a href=\"https://colab.research.google.com/github/Ferazug/HIGI/blob/main/Python/Ej_1_HIGI_11_11.ipynb\" target=\"_parent\"><img src=\"https://colab.research.google.com/assets/colab-badge.svg\" alt=\"Open In Colab\"/></a>"
      ]
    },
    {
      "cell_type": "code",
      "execution_count": null,
      "metadata": {
        "id": "s-vYwNc6h9YY"
      },
      "outputs": [],
      "source": [
        "import numpy as np\n",
        "import matplotlib.pyplot as plt\n",
        "from scipy           import stats\n",
        "from scipy.optimize import minimize"
      ]
    },
    {
      "cell_type": "code",
      "source": [
        "m_true = -0.9594\n",
        "b_true = 4.194"
      ],
      "metadata": {
        "id": "ghm_sjrdx0WS"
      },
      "execution_count": null,
      "outputs": []
    },
    {
      "cell_type": "code",
      "source": [
        "data = np.load(\"line.npy\")\n",
        "x = data[0]\n",
        "y = data[1]\n",
        "yerr = data[2]"
      ],
      "metadata": {
        "id": "AK-2nSGhiEAg"
      },
      "execution_count": null,
      "outputs": []
    },
    {
      "cell_type": "markdown",
      "source": [
        "Gráfica de X vs Y con barras de error"
      ],
      "metadata": {
        "id": "CqPMbrKxktll"
      }
    },
    {
      "cell_type": "code",
      "source": [
        "plt.errorbar(x,y,yerr, fmt = '.', c = 'c')"
      ],
      "metadata": {
        "id": "3qFKUPQNjj3O",
        "colab": {
          "base_uri": "https://localhost:8080/",
          "height": 282
        },
        "outputId": "78e91f0e-24df-49a2-da47-e4e13d317f96"
      },
      "execution_count": null,
      "outputs": [
        {
          "output_type": "execute_result",
          "data": {
            "text/plain": [
              "<ErrorbarContainer object of 3 artists>"
            ]
          },
          "metadata": {},
          "execution_count": 50
        },
        {
          "output_type": "display_data",
          "data": {
            "text/plain": [
              "<Figure size 432x288 with 1 Axes>"
            ],
            "image/png": "[encoded data removed]"
          },
          "metadata": {
            "needs_background": "light"
          }
        }
      ]
    },
    {
      "cell_type": "markdown",
      "source": [
        "Ajuste de regresión lineal"
      ],
      "metadata": {
        "id": "gh65KRPKkxVs"
      }
    },
    {
      "cell_type": "code",
      "source": [
        "slope, intercept, r_value, p_value, std_err = stats.linregress(x,y)\n",
        "plt.errorbar(x,y, yerr, fmt = '.', c = 'c')\n",
        "plt.plot(x, intercept + slope*x, c = 'r')"
      ],
      "metadata": {
        "colab": {
          "base_uri": "https://localhost:8080/",
          "height": 282
        },
        "id": "yqzNuOtMk1O7",
        "outputId": "4c8d3728-c855-4636-be9e-3de5541dff72"
      },
      "execution_count": null,
      "outputs": [
        {
          "output_type": "execute_result",
          "data": {
            "text/plain": [
              "[<matplotlib.lines.Line2D at 0x7fbdcf711810>]"
            ]
          },
          "metadata": {},
          "execution_count": 52
        },
        {
          "output_type": "display_data",
          "data": {
            "text/plain": [
              "<Figure size 432x288 with 1 Axes>"
            ],
            "image/png": "[encoded data removed]"
          },
          "metadata": {
            "needs_background": "light"
          }
        }
      ]
    },
    {
      "cell_type": "code",
      "source": [
        "def chi2(params):\n",
        "  a = params[0]\n",
        "  b = params[1]\n",
        "  ymodel = a*x + b\n",
        "  chi2 = 0.5*np.sum((y-ymodel)**2/yerr**2)\n",
        "  return chi2"
      ],
      "metadata": {
        "id": "qyUVVZxIu93r"
      },
      "execution_count": null,
      "outputs": []
    },
    {
      "cell_type": "code",
      "source": [
        "res = minimize(chi2, x0=[-0,0], options = {'disp':True})\n",
        "a_op, b_op = res.x\n",
        "print(\"%.4f\" %a_op, \"%.4f\" %b_op)\n",
        "print(\"%.4f\" %slope, \"%.4f\" %intercept)\n",
        "print(m_true, b_true)"
      ],
      "metadata": {
        "colab": {
          "base_uri": "https://localhost:8080/"
        },
        "id": "cv5zl75Tvykr",
        "outputId": "58a4ad79-fb77-4887-f135-c23260e93918"
      },
      "execution_count": null,
      "outputs": [
        {
          "output_type": "stream",
          "name": "stdout",
          "text": [
            "Optimization terminated successfully.\n",
            "         Current function value: 27.463454\n",
            "         Iterations: 4\n",
            "         Function evaluations: 18\n",
            "         Gradient evaluations: 6\n",
            "-0.9717 4.3992\n",
            "-0.9581 4.2744\n",
            "-0.9594 4.194\n"
          ]
        }
      ]
    }
  ]
}